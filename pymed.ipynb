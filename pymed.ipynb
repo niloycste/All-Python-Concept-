{
  "nbformat": 4,
  "nbformat_minor": 0,
  "metadata": {
    "colab": {
      "provenance": [],
      "authorship_tag": "ABX9TyNxVi3vwTfXnwAFoeHxQiUn",
      "include_colab_link": true
    },
    "kernelspec": {
      "name": "python3",
      "display_name": "Python 3"
    },
    "language_info": {
      "name": "python"
    }
  },
  "cells": [
    {
      "cell_type": "markdown",
      "metadata": {
        "id": "view-in-github",
        "colab_type": "text"
      },
      "source": [
        "<a href=\"https://colab.research.google.com/github/niloycste/All-Python-Concept-/blob/main/pymed.ipynb\" target=\"_parent\"><img src=\"https://colab.research.google.com/assets/colab-badge.svg\" alt=\"Open In Colab\"/></a>"
      ]
    },
    {
      "cell_type": "code",
      "execution_count": null,
      "metadata": {
        "colab": {
          "base_uri": "https://localhost:8080/"
        },
        "id": "41vFSs6bE6z4",
        "outputId": "4d93db98-a29c-454d-fd06-057ae81311ec"
      },
      "outputs": [
        {
          "output_type": "stream",
          "name": "stdout",
          "text": [
            "Collecting pymed\n",
            "  Downloading pymed-0.8.9-py3-none-any.whl.metadata (2.4 kB)\n",
            "Requirement already satisfied: requests>=2.20.0 in /usr/local/lib/python3.10/dist-packages (from pymed) (2.32.3)\n",
            "Requirement already satisfied: charset-normalizer<4,>=2 in /usr/local/lib/python3.10/dist-packages (from requests>=2.20.0->pymed) (3.3.2)\n",
            "Requirement already satisfied: idna<4,>=2.5 in /usr/local/lib/python3.10/dist-packages (from requests>=2.20.0->pymed) (3.10)\n",
            "Requirement already satisfied: urllib3<3,>=1.21.1 in /usr/local/lib/python3.10/dist-packages (from requests>=2.20.0->pymed) (2.2.3)\n",
            "Requirement already satisfied: certifi>=2017.4.17 in /usr/local/lib/python3.10/dist-packages (from requests>=2.20.0->pymed) (2024.8.30)\n",
            "Downloading pymed-0.8.9-py3-none-any.whl (9.6 kB)\n",
            "Installing collected packages: pymed\n",
            "Successfully installed pymed-0.8.9\n"
          ]
        }
      ],
      "source": [
        "!pip install pymed"
      ]
    },
    {
      "cell_type": "code",
      "source": [
        "from pymed import PubMed\n",
        "import pandas as pd\n",
        "\n",
        "pubmed = PubMed(tool=\"Mental health and stress detection using NLP\", email=\"niloy8649@gmail.com\")\n",
        "\n",
        "search_term = \"Mental health and stress detection using NLP\"\n",
        "results = pubmed.query(search_term, max_results=50)\n",
        "\n",
        "articleInfo = []\n",
        "\n",
        "for article in results:\n",
        "\n",
        "\n",
        "\n",
        "\n",
        "\n",
        "\n",
        "\n",
        "    article_dict = article.toDict()\n",
        "\n",
        "\n",
        "    pubmed_id = article_dict.get('pubmed_id', \"No PubMed ID\")\n",
        "    title = article_dict.get('title', \"No Title Available\")\n",
        "    abstract = article_dict.get('abstract', \"No Abstract Available\")\n",
        "\n",
        "\n",
        "    authors = []\n",
        "    for author in article_dict.get('authors', []):\n",
        "        lastname = author.get('lastname', \"\")\n",
        "        forename = author.get('forename', \"\")\n",
        "        authors.append(f\"{lastname} {forename}\".strip())\n",
        "\n",
        "\n",
        "    articleInfo.append({\n",
        "        'PubMed ID': pubmed_id,\n",
        "        'Title': title,\n",
        "        'Abstract': abstract,\n",
        "        'Authors': \", \".join(authors)\n",
        "    })\n",
        "\n",
        "\n",
        "articles_df = pd.DataFrame(articleInfo)\n",
        "\n",
        "# Save the DataFrame to a CSV file\n",
        "output_path = r'/content/sample_data/nlp_kg_mentalhealth_articles.csv'\n",
        "articles_df.to_csv(output_path, index=False)\n",
        "\n",
        "\n",
        "\n"
      ],
      "metadata": {
        "id": "swDkNwkbHRBb"
      },
      "execution_count": null,
      "outputs": []
    },
    {
      "cell_type": "code",
      "source": [],
      "metadata": {
        "id": "PeWUFN0_eQ6T"
      },
      "execution_count": null,
      "outputs": []
    }
  ]
}